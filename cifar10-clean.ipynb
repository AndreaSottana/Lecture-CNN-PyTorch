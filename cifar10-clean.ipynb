{
 "cells": [
  {
   "cell_type": "markdown",
   "metadata": {},
   "source": [
    "## Getting the data\n",
    "Currently downloading but should leave it a smaller set on the repo instead"
   ]
  },
  {
   "cell_type": "markdown",
   "metadata": {},
   "source": [
    "## Looking at the dataset\n",
    "It's a good idea to have a look at your data to see if everything seems good.\n",
    "\n",
    "In PyTorch iamges are represented 'channel-first' i.e. (Channels, Height, Width) or CHW\n",
    "\n",
    "On the other hand, Tensorflow uses 'channel-last' i.e. (Height, Width, Channels) HWC\n",
    "\n",
    "pyplot imshow expects channel-last therefore we need to transpose our image from CHW to HWC"
   ]
  },
  {
   "cell_type": "markdown",
   "metadata": {},
   "source": [
    "## Creating our CNN model\n",
    "[Conv2d](https://pytorch.org/docs/stable/nn.html#conv2d) (in_channels, out_channels, kernel_size)\n",
    "\n",
    "Remember: out_channels = number of filters as by definition to be able to carry out the dot product \n",
    "\n",
    "[MaxPool2d](https://pytorch.org/docs/stable/nn.html#maxpool2d) (kernel_size, stride)\n",
    "\n",
    "[Linear](https://pytorch.org/docs/stable/nn.html#linear)\n",
    "(in_features, out_features)\n",
    "\n",
    "\n",
    "Note that x.view reshapes our tensor. In this example we want to reshape the output of our 2nd max pooling (after our conv2 layer) which has an output shape of (n, 16, 5, 5) into (1, 16*5*5) = (n, 400) as the fully connected 'linear' layer expects a vector shape. Where 'n' is our batch_size.\n",
    "\n",
    "The -1 means to automatically fill the remaining dimension which in this case would get filled to 'n'."
   ]
  },
  {
   "cell_type": "markdown",
   "metadata": {},
   "source": [
    "Let's look at the model summary if we feed in an RGB image of size (3, 32, 32)"
   ]
  },
  {
   "cell_type": "markdown",
   "metadata": {},
   "source": [
    "## Setting up our optimizer"
   ]
  },
  {
   "cell_type": "markdown",
   "metadata": {},
   "source": [
    "## Training"
   ]
  },
  {
   "cell_type": "markdown",
   "metadata": {},
   "source": [
    "# Testing"
   ]
  }
 ],
 "metadata": {
  "kernelspec": {
   "display_name": "Python 3",
   "language": "python",
   "name": "python3"
  },
  "language_info": {
   "codemirror_mode": {
    "name": "ipython",
    "version": 3
   },
   "file_extension": ".py",
   "mimetype": "text/x-python",
   "name": "python",
   "nbconvert_exporter": "python",
   "pygments_lexer": "ipython3",
   "version": "3.7.4"
  }
 },
 "nbformat": 4,
 "nbformat_minor": 4
}
